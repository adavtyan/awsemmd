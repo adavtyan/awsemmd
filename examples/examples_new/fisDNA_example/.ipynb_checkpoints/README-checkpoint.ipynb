{
 "cells": [
  {
   "cell_type": "markdown",
   "metadata": {},
   "source": [
    "# This tutorial will walk you through a step-by-step build of protein-DNA simulation. There are three steps: 1. Build DNA data file 2. Build protein data file 3. Merge them."
   ]
  },
  {
   "cell_type": "markdown",
   "metadata": {},
   "source": [
    "## 1. Build DNA data file"
   ]
  },
  {
   "cell_type": "markdown",
   "metadata": {},
   "source": [
    "To build a 3SPN DNA model, DNA data file is created using both the 3SPN and X3DNA toolkits. Before we can actually build the model, we need to download these packages, unzip/untar them, and properly setup path to which your shell can have an access. This tutorial is tested and run on Linux under a Bash shell prompt `$`. First of all, let's move to the working folder."
   ]
  },
  {
   "cell_type": "markdown",
   "metadata": {},
   "source": [
    "$ `cd buildDna/`"
   ]
  },
  {
   "cell_type": "markdown",
   "metadata": {},
   "source": [
    "where you can find x3dna-v2.2.tar.gz and USER-3SPN2.tar.gz already there for you. Now we extract (untar) these files using the follwoing commands"
   ]
  },
  {
   "cell_type": "markdown",
   "metadata": {},
   "source": [
    "$ `tar -zxvf x3dna-v2.2.tar.gz`"
   ]
  },
  {
   "cell_type": "markdown",
   "metadata": {},
   "source": [
    "and"
   ]
  },
  {
   "cell_type": "markdown",
   "metadata": {},
   "source": [
    "$ `tar -zxvf USER-3SPN2.tar.gz`"
   ]
  },
  {
   "cell_type": "markdown",
   "metadata": {},
   "source": [
    "which generate the folder _x3dna-v2.2_ and _USER-3SPN2_, respectively."
   ]
  },
  {
   "cell_type": "markdown",
   "metadata": {},
   "source": [
    "Second, we setup up correct path for using functions of x3dna. Our default shell here is a Bash shell. You can setup the path by entering two lines in the command line."
   ]
  },
  {
   "cell_type": "markdown",
   "metadata": {},
   "source": [
    "$ `export X3DNA=\"YOUR_LOCAL_FOLDER/x3dna-v2.2\"`"
   ]
  },
  {
   "cell_type": "markdown",
   "metadata": {},
   "source": [
    "$ `export PATH=\"YOUR_LOCAL_FOLDER/x3dna-v2.2/bin:$PATH\"`"
   ]
  },
  {
   "cell_type": "markdown",
   "metadata": {},
   "source": [
    "The former sets the internal shell variable _X3DNA_ in order to validate the use of the x3dna functions, the latter allows users to have access to the local executables/scripts from the command line. It's highly recommended to add the above two lines in the _.bashrc_ (or _.profile_ etc.) file as a shell default setting, otherwise, the setting would be gone after you close the session (effectively as an one-time action)."
   ]
  },
  {
   "cell_type": "markdown",
   "metadata": {},
   "source": [
    "Once it's done. We can proceed to look at the script file _genConf.sh_, which runs all the binary/scripts of x3dna and 3spn2 needed to build a DNA data file. You can create it with an arbitrary sequence specified in _dnaSeq.txt_."
   ]
  },
  {
   "cell_type": "markdown",
   "metadata": {
    "collapsed": false
   },
   "source": [
    "$ `cat dnaSeq.txt`"
   ]
  },
  {
   "cell_type": "markdown",
   "metadata": {},
   "source": [
    "`54\n",
    "AAATTTGTTTGAATTTTGAGCAAATTTAAATTTGTTTGAATTTTGAGCAAATTT`"
   ]
  },
  {
   "cell_type": "markdown",
   "metadata": {},
   "source": [
    "Make the shell script executable by typing "
   ]
  },
  {
   "cell_type": "markdown",
   "metadata": {},
   "source": [
    "$ `chmod +x genConf.sh`"
   ]
  },
  {
   "cell_type": "markdown",
   "metadata": {},
   "source": [
    "Now let's execute `./genConf.sh`."
   ]
  },
  {
   "cell_type": "markdown",
   "metadata": {
    "collapsed": false
   },
   "source": [
    "$ `./genConf.sh`"
   ]
  },
  {
   "cell_type": "markdown",
   "metadata": {
    "collapsed": true
   },
   "source": [
    "`The average twist in this sequence is 34.516981`\n",
    "\n",
    "\n",
    "`Time used: 00:00:00:00`"
   ]
  },
  {
   "cell_type": "markdown",
   "metadata": {
    "collapsed": true
   },
   "source": [
    "`################################################################\n",
    "Pair coefficients for 3SPN.2 representation of B-DNA\n",
    "pair_coeff      1       1       3spn2   0.239006        4.500000\n",
    "pair_coeff      2       2       3spn2   0.239006        6.200000\n",
    "pair_coeff      3       3       3spn2   0.239006        5.400000\n",
    "pair_coeff      4       4       3spn2   0.239006        7.100000\n",
    "pair_coeff      5       5       3spn2   0.239006        4.900000\n",
    "pair_coeff      6       6       3spn2   0.239006        6.400000\n",
    "pair_coeff      7       7       3spn2   0.239006        5.400000\n",
    "pair_coeff      8       8       3spn2   0.239006        7.100000\n",
    "pair_coeff      9       9       3spn2   0.239006        4.900000\n",
    "pair_coeff      10      10      3spn2   0.239006        6.400000\n",
    "pair_coeff      11      11      3spn2   0.239006        5.400000\n",
    "pair_coeff      12      12      3spn2   0.239006        7.100000\n",
    "pair_coeff      13      13      3spn2   0.239006        4.900000\n",
    "pair_coeff      14      14      3spn2   0.239006        6.400000`\n",
    "`################################################################`"
   ]
  },
  {
   "cell_type": "markdown",
   "metadata": {},
   "source": [
    "That's it!\n",
    "\n",
    "With the information printing out the screen, you will get DNA data file, list files as well as several intermediate files. \n",
    "\n",
    "From there, the DNA data file, *bdna_curv_conf.in*, and the DNA list files, *in00_bond.list, in00_angl.list, and in00_dihe.list*, will be used later."
   ]
  },
  {
   "cell_type": "markdown",
   "metadata": {},
   "source": [
    "## 2. Build Protein data file"
   ]
  },
  {
   "cell_type": "code",
   "execution_count": null,
   "metadata": {
    "collapsed": true
   },
   "outputs": [],
   "source": []
  },
  {
   "cell_type": "code",
   "execution_count": null,
   "metadata": {
    "collapsed": true
   },
   "outputs": [],
   "source": []
  }
 ],
 "metadata": {
  "anaconda-cloud": {},
  "kernelspec": {
   "display_name": "Python [Root]",
   "language": "python",
   "name": "Python [Root]"
  },
  "language_info": {
   "codemirror_mode": {
    "name": "ipython",
    "version": 2
   },
   "file_extension": ".py",
   "mimetype": "text/x-python",
   "name": "python",
   "nbconvert_exporter": "python",
   "pygments_lexer": "ipython2",
   "version": "2.7.12"
  }
 },
 "nbformat": 4,
 "nbformat_minor": 0
}
